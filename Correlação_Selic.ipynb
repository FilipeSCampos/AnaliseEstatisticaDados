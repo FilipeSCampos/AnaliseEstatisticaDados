{
 "cells": [
  {
   "cell_type": "code",
   "execution_count": 7,
   "id": "89828ee8",
   "metadata": {},
   "outputs": [
    {
     "name": "stdout",
     "output_type": "stream",
     "text": [
      "Informe o nível de significância (ex: 0.05 para 5%): 0.1\n",
      "O valor da estatística de teste é igual a 0.61\n",
      "A confiança do teste é igual a 90.0%\n",
      "O valor crítico da distribuição associada é igual a 1.81\n",
      "A hipótese/afirmação dada deve ser aceitada.\n"
     ]
    }
   ],
   "source": [
    "import pandas as pd\n",
    "from scipy import stats\n",
    "\n",
    "# Tabela com os valores da taxa SELIC e IPCA\n",
    "data = {\n",
    "    'SELIC': [0.73, 0.76, 0.93, 0.83, 1.03, 1.02, 1.03, 1.17, 1.07, 1.02, 1.02, 1.12],\n",
    "    'IPCA': [0.54, 1.01, 1.62, 1.06, 0.47, 0.67, -0.68, -0.36, -0.29, 0.59, 0.41, 0.62]\n",
    "}\n",
    "\n",
    "# Cria um DataFrame a partir dos dados\n",
    "df = pd.DataFrame(data)\n",
    "\n",
    "# Solicita o nível de significância do teste ao usuário\n",
    "alpha = float(input(\"Informe o nível de significância (ex: 0.05 para 5%): \"))\n",
    "\n",
    "# Calcula a correlação móvel trimestral entre SELIC e IPCA\n",
    "correlation = df['SELIC'].rolling(3).corr(df['IPCA'])\n",
    "\n",
    "# Calcula a estatística de teste\n",
    "test_statistic = correlation.dropna().values[-1]\n",
    "\n",
    "# Calcula o valor crítico da distribuição associada\n",
    "df_corr = len(df) - 2  # Graus de liberdade para a correlação\n",
    "critical_value = stats.t.ppf(1 - alpha / 2, df=df_corr)\n",
    "\n",
    "# Realiza o teste de hipótese\n",
    "if abs(test_statistic) >= critical_value:\n",
    "    result = \"rejeitada\"\n",
    "else:\n",
    "    result = \"aceitada\"\n",
    "\n",
    "# Exibe os resultados\n",
    "print(f\"O valor da estatística de teste é igual a {test_statistic:.2f}\")\n",
    "print(f\"A confiança do teste é igual a {(1 - alpha) * 100}%\")\n",
    "print(f\"O valor crítico da distribuição associada é igual a {critical_value:.2f}\")\n",
    "print(f\"A hipótese/afirmação dada deve ser {result}.\")\n"
   ]
  }
 ],
 "metadata": {
  "kernelspec": {
   "display_name": "Python 3 (ipykernel)",
   "language": "python",
   "name": "python3"
  },
  "language_info": {
   "codemirror_mode": {
    "name": "ipython",
    "version": 3
   },
   "file_extension": ".py",
   "mimetype": "text/x-python",
   "name": "python",
   "nbconvert_exporter": "python",
   "pygments_lexer": "ipython3",
   "version": "3.10.9"
  }
 },
 "nbformat": 4,
 "nbformat_minor": 5
}
