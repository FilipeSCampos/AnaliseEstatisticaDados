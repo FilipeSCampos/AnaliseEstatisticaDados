{
  "nbformat": 4,
  "nbformat_minor": 0,
  "metadata": {
    "colab": {
      "provenance": [],
      "authorship_tag": "ABX9TyPMPxgUCuyecz0R7Gyj5Xit",
      "include_colab_link": true
    },
    "kernelspec": {
      "name": "python3",
      "display_name": "Python 3"
    },
    "language_info": {
      "name": "python"
    }
  },
  "cells": [
    {
      "cell_type": "markdown",
      "metadata": {
        "id": "view-in-github",
        "colab_type": "text"
      },
      "source": [
        "<a href=\"https://colab.research.google.com/github/FilipeSCampos/AnaliseEstatisticaDados/blob/main/AnaliseAula4.ipynb\" target=\"_parent\"><img src=\"https://colab.research.google.com/assets/colab-badge.svg\" alt=\"Open In Colab\"/></a>"
      ]
    },
    {
      "cell_type": "code",
      "execution_count": 8,
      "metadata": {
        "colab": {
          "base_uri": "https://localhost:8080/"
        },
        "id": "Do7QNFolNqbI",
        "outputId": "48f92578-8dc6-48ca-d8f1-83bb3858f72c"
      },
      "outputs": [
        {
          "output_type": "stream",
          "name": "stdout",
          "text": [
            "[[4, 5, 4, 4, 4], [3, 3, 4, 1, 3], [3, 2, 1, 4, 2], [3, 2, 3, 4, 3], [5, 1, 5, 2, 5], [4, 5, 1, 1, 2], [1, 4, 3, 3, 3], [2, 2, 5, 1, 3], [1, 4, 2, 4, 4], [3, 5, 5, 1, 2]]\n"
          ]
        }
      ],
      "source": [
        "Row = 10\n",
        "Column = 5\n",
        "matrix = []\n",
        "for row in range(Row):\n",
        "    a = []\n",
        "    for column in range(Column):\n",
        "        a.append(int(random.randint(1,5)))\n",
        "    matrix.append(a)\n",
        "print(matrix)"
      ]
    },
    {
      "cell_type": "code",
      "source": [
        "import random\n",
        "import numpy as np\n",
        "import pandas as pd\n",
        "import statistics\n",
        "import math"
      ],
      "metadata": {
        "id": "WjEgA3ZrPmIB"
      },
      "execution_count": 51,
      "outputs": []
    },
    {
      "cell_type": "code",
      "source": [
        "df = pd.DataFrame(matrix, columns=['1ª','2ª','3ª','4ª','5ª'])\n",
        "display(df)"
      ],
      "metadata": {
        "colab": {
          "base_uri": "https://localhost:8080/",
          "height": 363
        },
        "id": "Dkty7zkASJ7W",
        "outputId": "c09bafd3-a8be-4c67-934e-9b9a00196fa6"
      },
      "execution_count": 15,
      "outputs": [
        {
          "output_type": "display_data",
          "data": {
            "text/plain": [
              "   1ª  2ª  3ª  4ª  5ª\n",
              "0   4   5   4   4   4\n",
              "1   3   3   4   1   3\n",
              "2   3   2   1   4   2\n",
              "3   3   2   3   4   3\n",
              "4   5   1   5   2   5\n",
              "5   4   5   1   1   2\n",
              "6   1   4   3   3   3\n",
              "7   2   2   5   1   3\n",
              "8   1   4   2   4   4\n",
              "9   3   5   5   1   2"
            ],
            "text/html": [
              "\n",
              "  <div id=\"df-c08161ae-e8c2-4cd5-9044-ba281c2f71bf\" class=\"colab-df-container\">\n",
              "    <div>\n",
              "<style scoped>\n",
              "    .dataframe tbody tr th:only-of-type {\n",
              "        vertical-align: middle;\n",
              "    }\n",
              "\n",
              "    .dataframe tbody tr th {\n",
              "        vertical-align: top;\n",
              "    }\n",
              "\n",
              "    .dataframe thead th {\n",
              "        text-align: right;\n",
              "    }\n",
              "</style>\n",
              "<table border=\"1\" class=\"dataframe\">\n",
              "  <thead>\n",
              "    <tr style=\"text-align: right;\">\n",
              "      <th></th>\n",
              "      <th>1ª</th>\n",
              "      <th>2ª</th>\n",
              "      <th>3ª</th>\n",
              "      <th>4ª</th>\n",
              "      <th>5ª</th>\n",
              "    </tr>\n",
              "  </thead>\n",
              "  <tbody>\n",
              "    <tr>\n",
              "      <th>0</th>\n",
              "      <td>4</td>\n",
              "      <td>5</td>\n",
              "      <td>4</td>\n",
              "      <td>4</td>\n",
              "      <td>4</td>\n",
              "    </tr>\n",
              "    <tr>\n",
              "      <th>1</th>\n",
              "      <td>3</td>\n",
              "      <td>3</td>\n",
              "      <td>4</td>\n",
              "      <td>1</td>\n",
              "      <td>3</td>\n",
              "    </tr>\n",
              "    <tr>\n",
              "      <th>2</th>\n",
              "      <td>3</td>\n",
              "      <td>2</td>\n",
              "      <td>1</td>\n",
              "      <td>4</td>\n",
              "      <td>2</td>\n",
              "    </tr>\n",
              "    <tr>\n",
              "      <th>3</th>\n",
              "      <td>3</td>\n",
              "      <td>2</td>\n",
              "      <td>3</td>\n",
              "      <td>4</td>\n",
              "      <td>3</td>\n",
              "    </tr>\n",
              "    <tr>\n",
              "      <th>4</th>\n",
              "      <td>5</td>\n",
              "      <td>1</td>\n",
              "      <td>5</td>\n",
              "      <td>2</td>\n",
              "      <td>5</td>\n",
              "    </tr>\n",
              "    <tr>\n",
              "      <th>5</th>\n",
              "      <td>4</td>\n",
              "      <td>5</td>\n",
              "      <td>1</td>\n",
              "      <td>1</td>\n",
              "      <td>2</td>\n",
              "    </tr>\n",
              "    <tr>\n",
              "      <th>6</th>\n",
              "      <td>1</td>\n",
              "      <td>4</td>\n",
              "      <td>3</td>\n",
              "      <td>3</td>\n",
              "      <td>3</td>\n",
              "    </tr>\n",
              "    <tr>\n",
              "      <th>7</th>\n",
              "      <td>2</td>\n",
              "      <td>2</td>\n",
              "      <td>5</td>\n",
              "      <td>1</td>\n",
              "      <td>3</td>\n",
              "    </tr>\n",
              "    <tr>\n",
              "      <th>8</th>\n",
              "      <td>1</td>\n",
              "      <td>4</td>\n",
              "      <td>2</td>\n",
              "      <td>4</td>\n",
              "      <td>4</td>\n",
              "    </tr>\n",
              "    <tr>\n",
              "      <th>9</th>\n",
              "      <td>3</td>\n",
              "      <td>5</td>\n",
              "      <td>5</td>\n",
              "      <td>1</td>\n",
              "      <td>2</td>\n",
              "    </tr>\n",
              "  </tbody>\n",
              "</table>\n",
              "</div>\n",
              "    <div class=\"colab-df-buttons\">\n",
              "\n",
              "  <div class=\"colab-df-container\">\n",
              "    <button class=\"colab-df-convert\" onclick=\"convertToInteractive('df-c08161ae-e8c2-4cd5-9044-ba281c2f71bf')\"\n",
              "            title=\"Convert this dataframe to an interactive table.\"\n",
              "            style=\"display:none;\">\n",
              "\n",
              "  <svg xmlns=\"http://www.w3.org/2000/svg\" height=\"24px\" viewBox=\"0 -960 960 960\">\n",
              "    <path d=\"M120-120v-720h720v720H120Zm60-500h600v-160H180v160Zm220 220h160v-160H400v160Zm0 220h160v-160H400v160ZM180-400h160v-160H180v160Zm440 0h160v-160H620v160ZM180-180h160v-160H180v160Zm440 0h160v-160H620v160Z\"/>\n",
              "  </svg>\n",
              "    </button>\n",
              "\n",
              "  <style>\n",
              "    .colab-df-container {\n",
              "      display:flex;\n",
              "      gap: 12px;\n",
              "    }\n",
              "\n",
              "    .colab-df-convert {\n",
              "      background-color: #E8F0FE;\n",
              "      border: none;\n",
              "      border-radius: 50%;\n",
              "      cursor: pointer;\n",
              "      display: none;\n",
              "      fill: #1967D2;\n",
              "      height: 32px;\n",
              "      padding: 0 0 0 0;\n",
              "      width: 32px;\n",
              "    }\n",
              "\n",
              "    .colab-df-convert:hover {\n",
              "      background-color: #E2EBFA;\n",
              "      box-shadow: 0px 1px 2px rgba(60, 64, 67, 0.3), 0px 1px 3px 1px rgba(60, 64, 67, 0.15);\n",
              "      fill: #174EA6;\n",
              "    }\n",
              "\n",
              "    .colab-df-buttons div {\n",
              "      margin-bottom: 4px;\n",
              "    }\n",
              "\n",
              "    [theme=dark] .colab-df-convert {\n",
              "      background-color: #3B4455;\n",
              "      fill: #D2E3FC;\n",
              "    }\n",
              "\n",
              "    [theme=dark] .colab-df-convert:hover {\n",
              "      background-color: #434B5C;\n",
              "      box-shadow: 0px 1px 3px 1px rgba(0, 0, 0, 0.15);\n",
              "      filter: drop-shadow(0px 1px 2px rgba(0, 0, 0, 0.3));\n",
              "      fill: #FFFFFF;\n",
              "    }\n",
              "  </style>\n",
              "\n",
              "    <script>\n",
              "      const buttonEl =\n",
              "        document.querySelector('#df-c08161ae-e8c2-4cd5-9044-ba281c2f71bf button.colab-df-convert');\n",
              "      buttonEl.style.display =\n",
              "        google.colab.kernel.accessAllowed ? 'block' : 'none';\n",
              "\n",
              "      async function convertToInteractive(key) {\n",
              "        const element = document.querySelector('#df-c08161ae-e8c2-4cd5-9044-ba281c2f71bf');\n",
              "        const dataTable =\n",
              "          await google.colab.kernel.invokeFunction('convertToInteractive',\n",
              "                                                    [key], {});\n",
              "        if (!dataTable) return;\n",
              "\n",
              "        const docLinkHtml = 'Like what you see? Visit the ' +\n",
              "          '<a target=\"_blank\" href=https://colab.research.google.com/notebooks/data_table.ipynb>data table notebook</a>'\n",
              "          + ' to learn more about interactive tables.';\n",
              "        element.innerHTML = '';\n",
              "        dataTable['output_type'] = 'display_data';\n",
              "        await google.colab.output.renderOutput(dataTable, element);\n",
              "        const docLink = document.createElement('div');\n",
              "        docLink.innerHTML = docLinkHtml;\n",
              "        element.appendChild(docLink);\n",
              "      }\n",
              "    </script>\n",
              "  </div>\n",
              "\n",
              "\n",
              "<div id=\"df-f7162c1d-7714-4dd9-8e28-1fcaf3d0b034\">\n",
              "  <button class=\"colab-df-quickchart\" onclick=\"quickchart('df-f7162c1d-7714-4dd9-8e28-1fcaf3d0b034')\"\n",
              "            title=\"Suggest charts.\"\n",
              "            style=\"display:none;\">\n",
              "\n",
              "<svg xmlns=\"http://www.w3.org/2000/svg\" height=\"24px\"viewBox=\"0 0 24 24\"\n",
              "     width=\"24px\">\n",
              "    <g>\n",
              "        <path d=\"M19 3H5c-1.1 0-2 .9-2 2v14c0 1.1.9 2 2 2h14c1.1 0 2-.9 2-2V5c0-1.1-.9-2-2-2zM9 17H7v-7h2v7zm4 0h-2V7h2v10zm4 0h-2v-4h2v4z\"/>\n",
              "    </g>\n",
              "</svg>\n",
              "  </button>\n",
              "\n",
              "<style>\n",
              "  .colab-df-quickchart {\n",
              "    background-color: #E8F0FE;\n",
              "    border: none;\n",
              "    border-radius: 50%;\n",
              "    cursor: pointer;\n",
              "    display: none;\n",
              "    fill: #1967D2;\n",
              "    height: 32px;\n",
              "    padding: 0 0 0 0;\n",
              "    width: 32px;\n",
              "  }\n",
              "\n",
              "  .colab-df-quickchart:hover {\n",
              "    background-color: #E2EBFA;\n",
              "    box-shadow: 0px 1px 2px rgba(60, 64, 67, 0.3), 0px 1px 3px 1px rgba(60, 64, 67, 0.15);\n",
              "    fill: #174EA6;\n",
              "  }\n",
              "\n",
              "  [theme=dark] .colab-df-quickchart {\n",
              "    background-color: #3B4455;\n",
              "    fill: #D2E3FC;\n",
              "  }\n",
              "\n",
              "  [theme=dark] .colab-df-quickchart:hover {\n",
              "    background-color: #434B5C;\n",
              "    box-shadow: 0px 1px 3px 1px rgba(0, 0, 0, 0.15);\n",
              "    filter: drop-shadow(0px 1px 2px rgba(0, 0, 0, 0.3));\n",
              "    fill: #FFFFFF;\n",
              "  }\n",
              "</style>\n",
              "\n",
              "  <script>\n",
              "    async function quickchart(key) {\n",
              "      const charts = await google.colab.kernel.invokeFunction(\n",
              "          'suggestCharts', [key], {});\n",
              "    }\n",
              "    (() => {\n",
              "      let quickchartButtonEl =\n",
              "        document.querySelector('#df-f7162c1d-7714-4dd9-8e28-1fcaf3d0b034 button');\n",
              "      quickchartButtonEl.style.display =\n",
              "        google.colab.kernel.accessAllowed ? 'block' : 'none';\n",
              "    })();\n",
              "  </script>\n",
              "</div>\n",
              "    </div>\n",
              "  </div>\n"
            ]
          },
          "metadata": {}
        }
      ]
    },
    {
      "cell_type": "code",
      "source": [
        "x = []\n",
        "for column in df:\n",
        "    a = (df[column].std(ddof = 0))\n",
        "    x.append(a)\n",
        "print(x)"
      ],
      "metadata": {
        "colab": {
          "base_uri": "https://localhost:8080/"
        },
        "id": "n4-3h7JSTGbz",
        "outputId": "eb59309b-fc55-47ed-d633-3d7d6b7b220a"
      },
      "execution_count": 32,
      "outputs": [
        {
          "output_type": "stream",
          "name": "stdout",
          "text": [
            "[1.2206555615733703, 1.4177446878757827, 1.4866068747318506, 1.3601470508735443, 0.9433981132056604]\n"
          ]
        }
      ]
    },
    {
      "cell_type": "code",
      "source": [
        "media = np.array(x)\n",
        "print(media.mean())"
      ],
      "metadata": {
        "colab": {
          "base_uri": "https://localhost:8080/"
        },
        "id": "GK7hyZUJW_Ll",
        "outputId": "fe090b94-152e-49ae-bbba-64177c31a73b"
      },
      "execution_count": 37,
      "outputs": [
        {
          "output_type": "stream",
          "name": "stdout",
          "text": [
            "1.2857104576520415\n"
          ]
        }
      ]
    },
    {
      "cell_type": "code",
      "source": [
        "media_pond = (x[0] * 2 + x[1] * 3 + x[2] * 1 + x[3] * 2.5 + x[4] * 3) / 10.5\n",
        "print(media_pond)"
      ],
      "metadata": {
        "colab": {
          "base_uri": "https://localhost:8080/"
        },
        "id": "Plz5YU1jYPIa",
        "outputId": "aa09d83b-8cbe-4993-8c1b-7d9da28e01bc"
      },
      "execution_count": 39,
      "outputs": [
        {
          "output_type": "stream",
          "name": "stdout",
          "text": [
            "1.372544193172074\n"
          ]
        }
      ]
    },
    {
      "cell_type": "code",
      "source": [
        "z = 1.96\n",
        "mstd = media\n",
        "E = 0.2\n",
        "\n",
        "n = (z * media_pond / E) ** 2\n",
        "n.round()"
      ],
      "metadata": {
        "colab": {
          "base_uri": "https://localhost:8080/"
        },
        "id": "X01sWx8zYuFJ",
        "outputId": "d2c74510-f8c7-4859-d962-8649154ed22f"
      },
      "execution_count": 57,
      "outputs": [
        {
          "output_type": "execute_result",
          "data": {
            "text/plain": [
              "181.0"
            ]
          },
          "metadata": {},
          "execution_count": 57
        }
      ]
    },
    {
      "cell_type": "code",
      "source": [
        "\n",
        "import math\n",
        "import numpy as np\n",
        "import random\n",
        "\n",
        "numrespond=1000 # PODE afetar o tamanho MÍNIMO da amostra; numquest=5 # NÃO afeta o tamanho MÍNIMO da amostra.\n",
        "numquest=5\n",
        "E=0.2\n",
        "escalamax=5 # AFETA o tamanho MÍNIMO da amostra\n",
        "\n",
        "matriz = np.zeros((numrespond, numquest))\n",
        "mediaq =np.empty(numquest)\n",
        "\n",
        "somaq =np.empty(numrespond)\n",
        "somaquad =np.empty(numrespond)\n",
        "\n",
        "var =np.empty(numquest)\n",
        "desvio =np.empty(numquest)\n",
        "arraysomaq =np.empty(numrespond)\n",
        "somarespostas = np.zeros(numrespond)\n",
        "somadasvar = 0\n",
        "varianciasomaresp = 0\n",
        "tamanhon = 0\n",
        "\n",
        "for j in range(numquest):\n",
        "  for i in range(numrespond):\n",
        "    numaleatorio=round(random.random()*escalamax,0)\n",
        "    correcao=0\n",
        "    if numaleatorio==0:\n",
        "      correcao=1\n",
        "    if numaleatorio==escalamax:\n",
        "      correcao=0\n",
        "    matriz[i][j]=numaleatorio+correcao\n",
        "\n",
        "for j in range(numquest):\n",
        "  somaq=0\n",
        "  somaquad=0\n",
        "\n",
        "  for linha in range(numrespond):\n",
        "    somaq=somaq+matriz[linha,j]\n",
        "\n",
        "  mediaq[j]=somaq/numrespond\n",
        "\n",
        "  for linha in range(numrespond):\n",
        "    somaquad=somaquad+(matriz[linha,j]-mediaq[j])**2\n",
        "\n",
        "    var[j]=somaquad/(numrespond-1)\n",
        "    desvio[j]=math.sqrt(var[j])\n",
        "    somadasvar+=var[j]\n",
        "\n",
        "for linha in range(numrespond):\n",
        "  for j in range(numquest):\n",
        "    somarespostas[linha]=somarespostas[linha]+matriz[linha,j]\n",
        "\n",
        "varianciasomaresp=(np.std(somarespostas, ddof=0))**2\n",
        "mediadesvio=np.mean(desvio)\n",
        "tamanhon=(1.96*mediadesvio/E)**2\n",
        "\n",
        "print(matriz)\n",
        "print(round(tamanhon,0))"
      ],
      "metadata": {
        "colab": {
          "base_uri": "https://localhost:8080/"
        },
        "id": "nZl9GYs5gIaq",
        "outputId": "ce7cb7e2-d30c-4d82-b63b-ef4edff7b1a0"
      },
      "execution_count": 65,
      "outputs": [
        {
          "output_type": "stream",
          "name": "stdout",
          "text": [
            "[[1. 5. 2. 1. 1.]\n",
            " [5. 1. 5. 2. 5.]\n",
            " [1. 1. 2. 1. 5.]\n",
            " ...\n",
            " [1. 2. 4. 1. 5.]\n",
            " [2. 4. 2. 1. 2.]\n",
            " [2. 1. 3. 5. 3.]]\n",
            "177.0\n"
          ]
        }
      ]
    },
    {
      "cell_type": "markdown",
      "source": [
        "# Intervalo de Classes\n"
      ],
      "metadata": {
        "id": "OvJc-kkYnsT3"
      }
    },
    {
      "cell_type": "code",
      "source": [
        "dolar = [5.16, 5.2323, 5.284, 5.2403, 5.2159, 5.1241, 5.1218, 5.0491, 5.1121, 5.1017, 5.0919, 5.1334, 5.1779, 5.1767, 5.1955, 5.1703, 5.1024, 5.1044, 5.1167, 5.0897, 5.0423, 5.0611, 5.1784]\n",
        "\n",
        "dados = pd.DataFrame({'Cotação': dolar})\n",
        "\n",
        "classes = [5.10, 5.15, 5.20, 5.25]\n",
        "\n",
        "frequencia = pd.cut(dados['Cotação'], bins = classes).value_counts().sort_index()\n",
        "\n",
        "print('Distribuição de frequencia')\n",
        "display(frequencia)"
      ],
      "metadata": {
        "colab": {
          "base_uri": "https://localhost:8080/",
          "height": 104
        },
        "id": "JhuC8CpMkpBk",
        "outputId": "324ca3b6-0131-4172-fbfc-84b864fb19c9"
      },
      "execution_count": 69,
      "outputs": [
        {
          "output_type": "stream",
          "name": "stdout",
          "text": [
            "Distribuição de frequencia\n"
          ]
        },
        {
          "output_type": "display_data",
          "data": {
            "text/plain": [
              "(5.1, 5.15]    8\n",
              "(5.15, 5.2]    6\n",
              "(5.2, 5.25]    3\n",
              "Name: Cotação, dtype: int64"
            ]
          },
          "metadata": {}
        }
      ]
    },
    {
      "cell_type": "code",
      "source": [
        "y = np.array(frequencia)\n",
        "\n",
        "for i in range(3):\n",
        "  print(y[i]/len(dolar))\n",
        "\n",
        ""
      ],
      "metadata": {
        "colab": {
          "base_uri": "https://localhost:8080/"
        },
        "id": "zT0A94FypJpr",
        "outputId": "3d33c3bc-dae2-455e-8ba7-22906d82603e"
      },
      "execution_count": 82,
      "outputs": [
        {
          "output_type": "stream",
          "name": "stdout",
          "text": [
            "0.34782608695652173\n",
            "0.2608695652173913\n",
            "0.13043478260869565\n"
          ]
        }
      ]
    },
    {
      "cell_type": "code",
      "source": [
        "len(dolar)"
      ],
      "metadata": {
        "colab": {
          "base_uri": "https://localhost:8080/"
        },
        "id": "ZMcPywjVq_TS",
        "outputId": "836a6d65-3ed4-4bfc-d18a-8bbb789ef080"
      },
      "execution_count": 83,
      "outputs": [
        {
          "output_type": "execute_result",
          "data": {
            "text/plain": [
              "23"
            ]
          },
          "metadata": {},
          "execution_count": 83
        }
      ]
    }
  ]
}