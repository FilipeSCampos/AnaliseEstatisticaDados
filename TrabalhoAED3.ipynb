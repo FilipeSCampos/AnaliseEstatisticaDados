{
 "cells": [
  {
   "cell_type": "code",
   "execution_count": 20,
   "id": "063191a2",
   "metadata": {},
   "outputs": [
    {
     "name": "stdout",
     "output_type": "stream",
     "text": [
      "O tamanho mínimo da amostra considerando uma confiança de 99.0% é igual a: 729\n",
      "\n",
      "Média ponderada ds respostas [2.7  4.1  3.3  3.45 3.45 3.3  2.9  3.55 4.1  3.6 ]\n",
      "\n",
      "Calcula o desvio padrão das respostas ponderadas \n",
      "[0.27248853 0.36331804 0.35249113 0.30083218 0.30083218 0.2607681\n",
      " 0.29706902 0.37815341 0.34749101 0.40865633]\n",
      "\n",
      "Calculamos o desvio padrão geral (σq) 1.0480935072788116\n",
      "\n",
      "Valor de Z para 99% 2.5758293035489004\n"
     ]
    }
   ],
   "source": [
    "import numpy as np\n",
    "from scipy.stats import norm\n",
    "\n",
    "# Respostas dos respondentes no pré-teste (substitua com seus próprios dados)\n",
    "respostas = np.array([\n",
    "    [3, 3, 1, 3, 3],\n",
    "    [5, 4, 2, 4, 5],\n",
    "    [4, 3, 1, 3, 5],\n",
    "    [4, 3, 2, 3, 5],\n",
    "    [5, 3, 2, 3, 4],\n",
    "    [4, 2, 2, 4, 5],\n",
    "    [3, 3, 1, 3, 4],\n",
    "    [3, 4, 2, 3, 5],\n",
    "    [5, 4, 3, 3, 5],\n",
    "    [5, 4, 2, 2, 4]\n",
    "])\n",
    "\n",
    "# Pesos estatísticos das questões\n",
    "pesos = np.array([0.2, 0.3, 0.15, 0.15, 0.2])\n",
    "\n",
    "# Nível de confiança (99%)\n",
    "nivel_confiança = 0.99\n",
    "\n",
    "# Fator de erro (0.1)\n",
    "margem_erro = 0.1\n",
    "\n",
    "# Número de questões\n",
    "k = len(pesos)\n",
    "\n",
    "# Média ponderada das respostas \n",
    "#Isso multiplica as respostas de cada respondente pelos pesos correspondentes e calcula a média ponderada.\n",
    "media_pesos = np.sum(respostas * pesos, axis=1)\n",
    "\n",
    "# Desvio padrão das respostas ponderadas\n",
    "#Isso calcula o desvio padrão das respostas ponderadas, usando ddof=1 para calcular o desvio padrão não tendencioso.\n",
    "desvio_padrao_respostas_ponderadas = np.std(respostas* pesos, axis=1, ddof=1)\n",
    "\n",
    "# Desvio padrão geral σq\n",
    "# Calculamos o desvio padrão geral (σq) usando a raiz quadrada da soma dos desvios padrão ponderados ao quadrado:\n",
    "desvio_padrao_geral_alfaq = np.sqrt(np.sum(desvio_padrao_respostas_ponderadas ** 2))\n",
    "\n",
    "# Valor z para o nível de confiança desejado\n",
    "# z 99% = 2.575\n",
    "z = norm.ppf(1 - (1 - nivel_confiança) / 2)\n",
    "\n",
    "# Tamanho mínimo da amostra (n)\n",
    "tamanho_minimo = ((z * desvio_padrao_geral_alfaq) / margem_erro) ** 2\n",
    "\n",
    "# Imprimir o resultado\n",
    "print(f\"O tamanho mínimo da amostra considerando uma confiança de {nivel_confiança * 100}% é igual a: {int(np.ceil(tamanho_minimo))}\\n\")\n",
    "print(f'Média ponderada ds respostas {media_pesos}\\n')\n",
    "print(f'Calcula o desvio padrão das respostas ponderadas \\n{desvio_padrao_respostas_ponderadas}\\n')\n",
    "print(f'Calculamos o desvio padrão geral (σq) {desvio_padrao_geral_alfaq}\\n')\n",
    "print(f'Valor de Z para 99% {z}')"
   ]
  }
 ],
 "metadata": {
  "kernelspec": {
   "display_name": "Python 3 (ipykernel)",
   "language": "python",
   "name": "python3"
  },
  "language_info": {
   "codemirror_mode": {
    "name": "ipython",
    "version": 3
   },
   "file_extension": ".py",
   "mimetype": "text/x-python",
   "name": "python",
   "nbconvert_exporter": "python",
   "pygments_lexer": "ipython3",
   "version": "3.10.9"
  }
 },
 "nbformat": 4,
 "nbformat_minor": 5
}
