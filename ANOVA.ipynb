{
 "cells": [
  {
   "cell_type": "code",
   "execution_count": 1,
   "id": "60972ae3",
   "metadata": {},
   "outputs": [],
   "source": [
    "import numpy as np"
   ]
  },
  {
   "cell_type": "code",
   "execution_count": 59,
   "id": "e0b80cf9",
   "metadata": {},
   "outputs": [
    {
     "data": {
      "text/plain": [
       "7500.0"
      ]
     },
     "execution_count": 59,
     "metadata": {},
     "output_type": "execute_result"
    }
   ],
   "source": [
    "dieta1 = np.array([198,211,240,189,178])\n",
    "dieta2 = np.array([214,200,259,194,188])\n",
    "dieta3 = np.array([174,176,213,201,158])\n",
    "\n",
    "\n",
    "a1 = np.sum(dieta1 **2)\n",
    "b1 =  np.sum(dieta1)**2\n",
    "\n",
    "sq1 = a1 - b1/len(dieta1)\n",
    "\n",
    "a2 = np.sum(dieta2 **2)\n",
    "b2 =  np.sum(dieta2)**2\n",
    "\n",
    "sq2 = a2 - b2/len(dieta2)\n",
    "\n",
    "a3 = np.sum(dieta3 **2)\n",
    "b3 =  np.sum(dieta3)**2\n",
    "\n",
    "sq3 = a3 - b3/len(dieta3)\n",
    "\n",
    "sqq = np.array([sq1,sq2,sq3])\n",
    "sqd = np.sum(sqq)\n",
    "sqd"
   ]
  },
  {
   "cell_type": "code",
   "execution_count": 41,
   "id": "826f4b94",
   "metadata": {},
   "outputs": [
    {
     "name": "stdout",
     "output_type": "stream",
     "text": [
      "203.2 211.0 184.4\n"
     ]
    }
   ],
   "source": [
    "media1 = np.mean(dieta1)\n",
    "media2 = np.mean(dieta2)\n",
    "media3 = np.mean(dieta3)\n",
    "medias = np.array([media1, media2, media3])\n",
    "K = 3\n",
    "\n",
    "print(media1, media2, media3)"
   ]
  },
  {
   "cell_type": "code",
   "execution_count": 75,
   "id": "8b5eafb5",
   "metadata": {},
   "outputs": [
    {
     "data": {
      "text/plain": [
       "1869.733333333279"
      ]
     },
     "execution_count": 75,
     "metadata": {},
     "output_type": "execute_result"
    }
   ],
   "source": [
    "numerador1 = np.sum(medias ** 2) \n",
    "numerador2 =  np.sum(medias)**2\n",
    "sqe = len(dieta1) * (numerador1- numerador2/K)\n",
    "sqe"
   ]
  },
  {
   "cell_type": "code",
   "execution_count": 72,
   "id": "03e4f7f5",
   "metadata": {},
   "outputs": [
    {
     "data": {
      "text/plain": [
       "625.0"
      ]
     },
     "execution_count": 72,
     "metadata": {},
     "output_type": "execute_result"
    }
   ],
   "source": [
    "N = sum([len(dieta1), len(dieta2), len(dieta3)])\n",
    "\n",
    "qmd = sqd / (N - K)\n",
    "qmd"
   ]
  },
  {
   "cell_type": "code",
   "execution_count": 74,
   "id": "0f9a585f",
   "metadata": {},
   "outputs": [
    {
     "data": {
      "text/plain": [
       "1.4957866666666233"
      ]
     },
     "execution_count": 74,
     "metadata": {},
     "output_type": "execute_result"
    }
   ],
   "source": [
    "qme = sqe/ (K -1)\n",
    "qme\n",
    "\n",
    "\n",
    "F = qme/qmd\n",
    "F"
   ]
  }
 ],
 "metadata": {
  "kernelspec": {
   "display_name": "Python 3 (ipykernel)",
   "language": "python",
   "name": "python3"
  },
  "language_info": {
   "codemirror_mode": {
    "name": "ipython",
    "version": 3
   },
   "file_extension": ".py",
   "mimetype": "text/x-python",
   "name": "python",
   "nbconvert_exporter": "python",
   "pygments_lexer": "ipython3",
   "version": "3.9.13"
  }
 },
 "nbformat": 4,
 "nbformat_minor": 5
}
