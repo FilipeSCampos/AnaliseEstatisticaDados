{
 "cells": [
  {
   "cell_type": "code",
   "execution_count": 128,
   "id": "bc967979",
   "metadata": {},
   "outputs": [
    {
     "name": "stdout",
     "output_type": "stream",
     "text": [
      "A média é: \n",
      "5.142695652173912\n",
      "Tamanho da amostra: \n",
      "23\n",
      "A mediana é: \n"
     ]
    },
    {
     "data": {
      "text/plain": [
       "5.1334"
      ]
     },
     "execution_count": 128,
     "metadata": {},
     "output_type": "execute_result"
    }
   ],
   "source": [
    "import statistics\n",
    "dolar = [5.16, 5.2323, 5.284, 5.2403, 5.2159, 5.1241, 5.1218, 5.0491, 5.1121, 5.1017, 5.0919, 5.1334, 5.1779, 5.1767, 5.1955, 5.1703, 5.1024, 5.1044, 5.1167, 5.0897, 5.0423, 5.0611, 5.1784]\n",
    "\n",
    "print('A média é: ')\n",
    "media = sum(dolar)/ len(dolar)\n",
    "print(media)\n",
    "print('Tamanho da amostra: ')\n",
    "print(len(dolar))\n",
    "\n",
    "print('A mediana é: ')\n",
    "mediana = (len(dolar) +1)/2\n",
    "\n",
    "mediana1 = (dolar[int(mediana - 1)])\n",
    "mediana1"
   ]
  },
  {
   "cell_type": "code",
   "execution_count": 129,
   "id": "64e87ee6",
   "metadata": {},
   "outputs": [
    {
     "name": "stdout",
     "output_type": "stream",
     "text": [
      "5.1334\n"
     ]
    }
   ],
   "source": [
    "print(mediana1)"
   ]
  },
  {
   "cell_type": "code",
   "execution_count": 130,
   "id": "c79f035e",
   "metadata": {},
   "outputs": [],
   "source": [
    "import pandas as pd\n",
    "import numpy as npi\n",
    "import matplotlib.pyplot as plt\n",
    "import seaborn as sns"
   ]
  },
  {
   "cell_type": "code",
   "execution_count": 131,
   "id": "6ee10804",
   "metadata": {},
   "outputs": [],
   "source": [
    "arquivo = \"dolar.xlsx\"\n",
    "dados = pd.read_excel(arquivo)\n"
   ]
  },
  {
   "cell_type": "code",
   "execution_count": 132,
   "id": "887b9417",
   "metadata": {},
   "outputs": [
    {
     "data": {
      "text/html": [
       "<div>\n",
       "<style scoped>\n",
       "    .dataframe tbody tr th:only-of-type {\n",
       "        vertical-align: middle;\n",
       "    }\n",
       "\n",
       "    .dataframe tbody tr th {\n",
       "        vertical-align: top;\n",
       "    }\n",
       "\n",
       "    .dataframe thead th {\n",
       "        text-align: right;\n",
       "    }\n",
       "</style>\n",
       "<table border=\"1\" class=\"dataframe\">\n",
       "  <thead>\n",
       "    <tr style=\"text-align: right;\">\n",
       "      <th></th>\n",
       "      <th>Cotacao</th>\n",
       "    </tr>\n",
       "  </thead>\n",
       "  <tbody>\n",
       "    <tr>\n",
       "      <th>count</th>\n",
       "      <td>23.000000</td>\n",
       "    </tr>\n",
       "    <tr>\n",
       "      <th>mean</th>\n",
       "      <td>5.142261</td>\n",
       "    </tr>\n",
       "    <tr>\n",
       "      <th>std</th>\n",
       "      <td>0.063445</td>\n",
       "    </tr>\n",
       "    <tr>\n",
       "      <th>min</th>\n",
       "      <td>5.042000</td>\n",
       "    </tr>\n",
       "    <tr>\n",
       "      <th>25%</th>\n",
       "      <td>5.101500</td>\n",
       "    </tr>\n",
       "    <tr>\n",
       "      <th>50%</th>\n",
       "      <td>5.124000</td>\n",
       "    </tr>\n",
       "    <tr>\n",
       "      <th>75%</th>\n",
       "      <td>5.177500</td>\n",
       "    </tr>\n",
       "    <tr>\n",
       "      <th>max</th>\n",
       "      <td>5.284000</td>\n",
       "    </tr>\n",
       "  </tbody>\n",
       "</table>\n",
       "</div>"
      ],
      "text/plain": [
       "         Cotacao\n",
       "count  23.000000\n",
       "mean    5.142261\n",
       "std     0.063445\n",
       "min     5.042000\n",
       "25%     5.101500\n",
       "50%     5.124000\n",
       "75%     5.177500\n",
       "max     5.284000"
      ]
     },
     "execution_count": 132,
     "metadata": {},
     "output_type": "execute_result"
    }
   ],
   "source": [
    "dados.describe()"
   ]
  },
  {
   "cell_type": "code",
   "execution_count": 133,
   "id": "073e4020",
   "metadata": {},
   "outputs": [
    {
     "data": {
      "text/plain": [
       "5.142260869565217"
      ]
     },
     "execution_count": 133,
     "metadata": {},
     "output_type": "execute_result"
    }
   ],
   "source": [
    "def media(dados):\n",
    "    media_mensal = df['Cotacao'].mean()\n",
    "    return media_mensal\n",
    "\n",
    "media(dados)"
   ]
  },
  {
   "cell_type": "code",
   "execution_count": 143,
   "id": "93ef38b8",
   "metadata": {},
   "outputs": [
    {
     "data": {
      "text/plain": [
       "(0.062050622665343946, 0.06344519280543305)"
      ]
     },
     "execution_count": 143,
     "metadata": {},
     "output_type": "execute_result"
    }
   ],
   "source": [
    "\n",
    "desvio_padrao_0 = dados['Cotacao'].std(ddof = 0)\n",
    "desvio_padrao_1 = dados['Cotacao'].std(ddof = 1)\n",
    "desvio_padrao_0 , desvio_padrao_1\n",
    "\n",
    "desvio_padrao(dados)\n",
    "\n",
    "#popualcional ddof = 0 \n",
    "#amostral ddof = 1"
   ]
  },
  {
   "cell_type": "code",
   "execution_count": 135,
   "id": "c634e8e3",
   "metadata": {},
   "outputs": [
    {
     "data": {
      "text/plain": [
       "(array([3., 1., 5., 4., 1., 4., 1., 2., 1., 1.]),\n",
       " array([5.042 , 5.0662, 5.0904, 5.1146, 5.1388, 5.163 , 5.1872, 5.2114,\n",
       "        5.2356, 5.2598, 5.284 ]),\n",
       " <BarContainer object of 10 artists>)"
      ]
     },
     "execution_count": 135,
     "metadata": {},
     "output_type": "execute_result"
    },
    {
     "data": {
      "image/png": "[encoded data removed]",
      "text/plain": [
       "<Figure size 432x288 with 1 Axes>"
      ]
     },
     "metadata": {
      "needs_background": "light"
     },
     "output_type": "display_data"
    }
   ],
   "source": [
    "plt.hist(dados['Cotacao'])"
   ]
  },
  {
   "cell_type": "code",
   "execution_count": 136,
   "id": "5ea4c022",
   "metadata": {
    "scrolled": true
   },
   "outputs": [
    {
     "data": {
      "text/plain": [
       "[<matplotlib.lines.Line2D at 0x1c942ff85b0>]"
      ]
     },
     "execution_count": 136,
     "metadata": {},
     "output_type": "execute_result"
    },
    {
     "data": {
      "image/png": "[encoded data removed]",
      "text/plain": [
       "<Figure size 432x288 with 1 Axes>"
      ]
     },
     "metadata": {
      "needs_background": "light"
     },
     "output_type": "display_data"
    }
   ],
   "source": [
    "plt.plot(dados['Data'], dados['Cotacao'], color = 'orange')"
   ]
  },
  {
   "cell_type": "code",
   "execution_count": 158,
   "id": "657400fa",
   "metadata": {},
   "outputs": [],
   "source": [
    "dolar.sort()\n",
    "if len(dolar) %2 == 0:\n",
    "    calculo_par = ((len(dolar)/2) + ((len(dolar)/2) +1))/2\n",
    "    mediana_par = (dolar[int(calculo_par - 1)])\n",
    "else:\n",
    "    calculo_impar = (len(dolar) +1)/2\n",
    "    mediana_impar = (dolar[int(calculo_impar - 1)])\n",
    "\n"
   ]
  },
  {
   "cell_type": "code",
   "execution_count": 145,
   "id": "0c0824a6",
   "metadata": {},
   "outputs": [
    {
     "name": "stdout",
     "output_type": "stream",
     "text": [
      "Selecione uma opção:\n",
      "1) Valor médio mensal em agosto\n",
      "2) Mediana \n",
      "3) Desvio Padrão \n",
      "3\n",
      "Selecione uma opção:\n",
      "1) Desvio Padrão Amostral\n",
      "2) Desvio Padrão Populacional2\n"
     ]
    }
   ],
   "source": [
    "escolha = int(input('Selecione uma opção:\\n1) Valor médio mensal em agosto\\n2) Mediana \\n3) Desvio Padrão \\n'))\n",
    "\n",
    "if escolha == 1:\n",
    "    print('Esta é a média mensal do mês de agosto: ', media(dados))\n",
    "elif escolha == 2:\n",
    "    print('Esta é a Mediana do dólar em agosto: ', mediana1 )\n",
    "elif escolha == 3:\n",
    "    escolha1 = input('Selecione uma opção:\\n1) Desvio Padrão Amostral\\n2) Desvio Padrão Populacional')\n",
    "    if escolha1 == 1:\n",
    "        print('Este é o Desvio Padrão Amostral: ', desvio_padrao1)\n",
    "    if escolha1 ==2:\n",
    "        print('Este é o Desvio Padrão Populacional:  ', desvio_padrao0)"
   ]
  }
 ],
 "metadata": {
  "kernelspec": {
   "display_name": "Python 3 (ipykernel)",
   "language": "python",
   "name": "python3"
  },
  "language_info": {
   "codemirror_mode": {
    "name": "ipython",
    "version": 3
   },
   "file_extension": ".py",
   "mimetype": "text/x-python",
   "name": "python",
   "nbconvert_exporter": "python",
   "pygments_lexer": "ipython3",
   "version": "3.9.7"
  }
 },
 "nbformat": 4,
 "nbformat_minor": 5
}
