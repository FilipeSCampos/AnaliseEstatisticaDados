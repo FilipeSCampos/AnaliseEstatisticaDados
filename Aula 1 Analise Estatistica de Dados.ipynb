{
 "cells": [
  {
   "cell_type": "code",
   "execution_count": null,
   "id": "34822c4e",
   "metadata": {},
   "outputs": [],
   "source": [
    "idade = [i for i in range(18,66)]\n",
    "idade"
   ]
  },
  {
   "cell_type": "code",
   "execution_count": 65,
   "id": "6e6ab06d",
   "metadata": {},
   "outputs": [
    {
     "name": "stdout",
     "output_type": "stream",
     "text": [
      "insira a quantidade de classe\n",
      "None4\n",
      "4\n",
      "essa é a amplitude de Classe:  11.75\n",
      "0 classe vai de: 18 ate 29.75\n",
      "1 classe vai de: 29.75 ate 41.5\n",
      "2 classe vai de: 41.5 ate 53.25\n",
      "3 classe vai de: 53.25 ate 65.0\n"
     ]
    }
   ],
   "source": [
    "#print('')\n",
    "\n",
    "\n",
    "numero_classe = int(input(print('insira a quantidade de classe')))\n",
    "print(numero_classe)\n",
    "maximo = max(idade)\n",
    "minimo = min(idade)\n",
    "\n",
    "amplitude = (maximo - minimo)/numero_classe\n",
    "\n",
    "print('essa é a amplitude de Classe: ',amplitude)\n",
    "\n",
    "começo = minimo \n",
    "for i in range(numero_classe):\n",
    "    segundo = começo + amplitude\n",
    "    print(i,'classe vai de:', começo, 'ate',segundo)\n",
    "    começo = segundo"
   ]
  },
  {
   "cell_type": "code",
   "execution_count": 69,
   "id": "01e9a2c6",
   "metadata": {},
   "outputs": [
    {
     "name": "stdout",
     "output_type": "stream",
     "text": [
      "[13, 26, 20, 9, 26, 15, 3, 15, 1, 19, 4, 16, 1, 18, 3]\n",
      "5.0\n"
     ]
    },
    {
     "data": {
      "image/png": "[encoded data removed]",
      "text/plain": [
       "<Figure size 640x480 with 1 Axes>"
      ]
     },
     "metadata": {},
     "output_type": "display_data"
    }
   ],
   "source": [
    "import matplotlib.pyplot as plt\n",
    "import numpy as np\n",
    "import random as random\n",
    "\n",
    "# escolhendo o numero de classes\n",
    "num_classes=5\n",
    "#montando a lista com 15 numeros escolhidos aleatoriamente entre 1 e 30\n",
    "randomlist=[]\n",
    "for i in range(0,15):\n",
    "# seleciona 10 numeros aleatorios entre 1 a 30    \n",
    "    x = random.randint(1,30)\n",
    "#usando o metodo append do python para adentrar os numeros aleatorios na lista.    \n",
    "    randomlist.append(x)\n",
    "print(randomlist)\n",
    "\n",
    "#calculando a amplitude das classes \n",
    "eixo_x = list(range(len(randomlist)))\n",
    "min_value = min(randomlist)\n",
    "max_value = max(randomlist)\n",
    "amplitude = max_value - min_value\n",
    "#Calcular o tamanho de cada classe (iontervalo)\n",
    "classe_size = amplitude / num_classes\n",
    "\n",
    "\n",
    "\n",
    "print(classe_size)\n",
    "#utilizando a funçao de histograma da biblioteca matplotlib\n",
    "\n",
    "plt.hist(randomlist, num_classes, align='mid', edgecolor='black')\n",
    "plt.show()"
   ]
  },
  {
   "cell_type": "code",
   "execution_count": 70,
   "id": "4be2c48e",
   "metadata": {},
   "outputs": [
    {
     "data": {
      "image/png": "[encoded data removed]",
      "text/plain": [
       "<Figure size 640x480 with 1 Axes>"
      ]
     },
     "metadata": {},
     "output_type": "display_data"
    }
   ],
   "source": [
    "lista = [5,10,15,25,35,35,40]\n",
    "plt.boxplot(lista)\n",
    "plt.show()"
   ]
  }
 ],
 "metadata": {
  "kernelspec": {
   "display_name": "Python 3 (ipykernel)",
   "language": "python",
   "name": "python3"
  },
  "language_info": {
   "codemirror_mode": {
    "name": "ipython",
    "version": 3
   },
   "file_extension": ".py",
   "mimetype": "text/x-python",
   "name": "python",
   "nbconvert_exporter": "python",
   "pygments_lexer": "ipython3",
   "version": "3.9.13"
  }
 },
 "nbformat": 4,
 "nbformat_minor": 5
}
