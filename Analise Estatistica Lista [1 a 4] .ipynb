{
 "cells": [
  {
   "cell_type": "code",
   "execution_count": 78,
   "id": "bc967979",
   "metadata": {},
   "outputs": [
    {
     "name": "stdout",
     "output_type": "stream",
     "text": [
      "A média é: \n",
      "5.142695652173912\n",
      "Tamanho da amostra: \n",
      "23\n",
      "A mediana é: \n"
     ]
    },
    {
     "data": {
      "text/plain": [
       "5.1334"
      ]
     },
     "execution_count": 78,
     "metadata": {},
     "output_type": "execute_result"
    }
   ],
   "source": [
    "import statistics\n",
    "dolar = [5.16,5.2323,5.284, 5.2403, 5.2159, 5.1241, 5.1218, 5.0491, 5.1121, 5.1017, 5.0919, 5.1334, 5.1779, 5.1767, 5.1955, 5.1703, 5.1024, 5.1044, 5.1167, 5.0897, 5.0423, 5.0611, 5.1784]\n",
    "\n",
    "print('A média é: ')\n",
    "media = sum(dolar)/ len(dolar)\n",
    "print(media)\n",
    "print('Tamanho da amostra: ')\n",
    "print(len(dolar))\n",
    "\n",
    "print('A mediana é: ')\n",
    "mediana = (len(dolar) +1)/2\n",
    "\n",
    "mediana1 = (dolar[int(mediana - 1)])\n",
    "mediana1"
   ]
  },
  {
   "cell_type": "code",
   "execution_count": 73,
   "id": "1f45b957",
   "metadata": {},
   "outputs": [
    {
     "name": "stdout",
     "output_type": "stream",
     "text": [
      "[5.0423, 5.0491, 5.0611, 5.0897, 5.0919, 5.1017, 5.1024, 5.1044, 5.1121, 5.1167, 5.1218, 5.1241, 5.1334, 5.16, 5.1703, 5.1767, 5.1779, 5.1784, 5.1955, 5.2159, 5.2323, 5.2403, 5.284]\n",
      "23\n"
     ]
    }
   ],
   "source": [
    "dolar.sort()\n",
    "print(dolar)\n",
    "print(len(dolar))"
   ]
  },
  {
   "cell_type": "code",
   "execution_count": 52,
   "id": "64e87ee6",
   "metadata": {},
   "outputs": [
    {
     "name": "stdout",
     "output_type": "stream",
     "text": [
      "5.1334\n"
     ]
    }
   ],
   "source": [
    "print(mediana1)"
   ]
  },
  {
   "cell_type": "code",
   "execution_count": 3,
   "id": "c79f035e",
   "metadata": {},
   "outputs": [],
   "source": [
    "import pandas as pd\n",
    "import numpy as npi\n",
    "import matplotlib.pyplot as plt\n",
    "import seaborn as sns"
   ]
  },
  {
   "cell_type": "code",
   "execution_count": 203,
   "id": "6ee10804",
   "metadata": {
    "scrolled": false
   },
   "outputs": [
    {
     "data": {
      "text/html": [
       "<div>\n",
       "<style scoped>\n",
       "    .dataframe tbody tr th:only-of-type {\n",
       "        vertical-align: middle;\n",
       "    }\n",
       "\n",
       "    .dataframe tbody tr th {\n",
       "        vertical-align: top;\n",
       "    }\n",
       "\n",
       "    .dataframe thead th {\n",
       "        text-align: right;\n",
       "    }\n",
       "</style>\n",
       "<table border=\"1\" class=\"dataframe\">\n",
       "  <thead>\n",
       "    <tr style=\"text-align: right;\">\n",
       "      <th></th>\n",
       "      <th>Data</th>\n",
       "      <th>Cotacao</th>\n",
       "    </tr>\n",
       "  </thead>\n",
       "  <tbody>\n",
       "    <tr>\n",
       "      <th>0</th>\n",
       "      <td>2022-08-01</td>\n",
       "      <td>5.1600</td>\n",
       "    </tr>\n",
       "    <tr>\n",
       "      <th>1</th>\n",
       "      <td>2022-08-02</td>\n",
       "      <td>5.2323</td>\n",
       "    </tr>\n",
       "    <tr>\n",
       "      <th>2</th>\n",
       "      <td>2022-08-03</td>\n",
       "      <td>5.2840</td>\n",
       "    </tr>\n",
       "    <tr>\n",
       "      <th>3</th>\n",
       "      <td>2022-08-04</td>\n",
       "      <td>5.2403</td>\n",
       "    </tr>\n",
       "    <tr>\n",
       "      <th>4</th>\n",
       "      <td>2022-08-05</td>\n",
       "      <td>5.2159</td>\n",
       "    </tr>\n",
       "    <tr>\n",
       "      <th>5</th>\n",
       "      <td>2022-08-08</td>\n",
       "      <td>5.1241</td>\n",
       "    </tr>\n",
       "    <tr>\n",
       "      <th>6</th>\n",
       "      <td>2022-08-09</td>\n",
       "      <td>5.1218</td>\n",
       "    </tr>\n",
       "    <tr>\n",
       "      <th>7</th>\n",
       "      <td>2022-08-10</td>\n",
       "      <td>5.0491</td>\n",
       "    </tr>\n",
       "    <tr>\n",
       "      <th>8</th>\n",
       "      <td>2022-08-11</td>\n",
       "      <td>5.1121</td>\n",
       "    </tr>\n",
       "    <tr>\n",
       "      <th>9</th>\n",
       "      <td>2022-08-12</td>\n",
       "      <td>5.1017</td>\n",
       "    </tr>\n",
       "    <tr>\n",
       "      <th>10</th>\n",
       "      <td>2022-08-15</td>\n",
       "      <td>5.0919</td>\n",
       "    </tr>\n",
       "    <tr>\n",
       "      <th>11</th>\n",
       "      <td>2022-08-16</td>\n",
       "      <td>5.1334</td>\n",
       "    </tr>\n",
       "    <tr>\n",
       "      <th>12</th>\n",
       "      <td>2022-08-17</td>\n",
       "      <td>5.1779</td>\n",
       "    </tr>\n",
       "    <tr>\n",
       "      <th>13</th>\n",
       "      <td>2022-08-18</td>\n",
       "      <td>5.1767</td>\n",
       "    </tr>\n",
       "    <tr>\n",
       "      <th>14</th>\n",
       "      <td>2022-08-19</td>\n",
       "      <td>5.1955</td>\n",
       "    </tr>\n",
       "    <tr>\n",
       "      <th>15</th>\n",
       "      <td>2022-08-22</td>\n",
       "      <td>5.1703</td>\n",
       "    </tr>\n",
       "    <tr>\n",
       "      <th>16</th>\n",
       "      <td>2022-08-23</td>\n",
       "      <td>5.1024</td>\n",
       "    </tr>\n",
       "    <tr>\n",
       "      <th>17</th>\n",
       "      <td>2022-08-24</td>\n",
       "      <td>5.1044</td>\n",
       "    </tr>\n",
       "    <tr>\n",
       "      <th>18</th>\n",
       "      <td>2022-08-25</td>\n",
       "      <td>5.1167</td>\n",
       "    </tr>\n",
       "    <tr>\n",
       "      <th>19</th>\n",
       "      <td>2022-08-26</td>\n",
       "      <td>5.0897</td>\n",
       "    </tr>\n",
       "    <tr>\n",
       "      <th>20</th>\n",
       "      <td>2022-08-29</td>\n",
       "      <td>5.0423</td>\n",
       "    </tr>\n",
       "    <tr>\n",
       "      <th>21</th>\n",
       "      <td>2022-08-30</td>\n",
       "      <td>5.0611</td>\n",
       "    </tr>\n",
       "    <tr>\n",
       "      <th>22</th>\n",
       "      <td>2022-08-31</td>\n",
       "      <td>5.1784</td>\n",
       "    </tr>\n",
       "  </tbody>\n",
       "</table>\n",
       "</div>"
      ],
      "text/plain": [
       "         Data  Cotacao\n",
       "0  2022-08-01   5.1600\n",
       "1  2022-08-02   5.2323\n",
       "2  2022-08-03   5.2840\n",
       "3  2022-08-04   5.2403\n",
       "4  2022-08-05   5.2159\n",
       "5  2022-08-08   5.1241\n",
       "6  2022-08-09   5.1218\n",
       "7  2022-08-10   5.0491\n",
       "8  2022-08-11   5.1121\n",
       "9  2022-08-12   5.1017\n",
       "10 2022-08-15   5.0919\n",
       "11 2022-08-16   5.1334\n",
       "12 2022-08-17   5.1779\n",
       "13 2022-08-18   5.1767\n",
       "14 2022-08-19   5.1955\n",
       "15 2022-08-22   5.1703\n",
       "16 2022-08-23   5.1024\n",
       "17 2022-08-24   5.1044\n",
       "18 2022-08-25   5.1167\n",
       "19 2022-08-26   5.0897\n",
       "20 2022-08-29   5.0423\n",
       "21 2022-08-30   5.0611\n",
       "22 2022-08-31   5.1784"
      ]
     },
     "metadata": {},
     "output_type": "display_data"
    }
   ],
   "source": [
    "arquivo = \"dolar.xlsx\"\n",
    "dados = pd.read_excel(arquivo)\n",
    "display(dados)\n"
   ]
  },
  {
   "cell_type": "code",
   "execution_count": 124,
   "id": "58f87682",
   "metadata": {
    "scrolled": true
   },
   "outputs": [
    {
     "name": "stdout",
     "output_type": "stream",
     "text": [
      "<class 'pandas.core.frame.DataFrame'>\n",
      "DatetimeIndex: 23 entries, 2022-08-01 to 2022-08-31\n",
      "Data columns (total 1 columns):\n",
      " #   Column   Non-Null Count  Dtype  \n",
      "---  ------   --------------  -----  \n",
      " 0   Cotacao  23 non-null     float64\n",
      "dtypes: float64(1)\n",
      "memory usage: 368.0 bytes\n"
     ]
    }
   ],
   "source": [
    "dados.info()"
   ]
  },
  {
   "cell_type": "code",
   "execution_count": 123,
   "id": "6cf653f6",
   "metadata": {
    "scrolled": true
   },
   "outputs": [
    {
     "data": {
      "text/html": [
       "<div>\n",
       "<style scoped>\n",
       "    .dataframe tbody tr th:only-of-type {\n",
       "        vertical-align: middle;\n",
       "    }\n",
       "\n",
       "    .dataframe tbody tr th {\n",
       "        vertical-align: top;\n",
       "    }\n",
       "\n",
       "    .dataframe thead th {\n",
       "        text-align: right;\n",
       "    }\n",
       "</style>\n",
       "<table border=\"1\" class=\"dataframe\">\n",
       "  <thead>\n",
       "    <tr style=\"text-align: right;\">\n",
       "      <th></th>\n",
       "      <th>Cotacao</th>\n",
       "    </tr>\n",
       "  </thead>\n",
       "  <tbody>\n",
       "    <tr>\n",
       "      <th>count</th>\n",
       "      <td>23.000000</td>\n",
       "    </tr>\n",
       "    <tr>\n",
       "      <th>mean</th>\n",
       "      <td>5.142696</td>\n",
       "    </tr>\n",
       "    <tr>\n",
       "      <th>std</th>\n",
       "      <td>0.063439</td>\n",
       "    </tr>\n",
       "    <tr>\n",
       "      <th>min</th>\n",
       "      <td>5.042300</td>\n",
       "    </tr>\n",
       "    <tr>\n",
       "      <th>25%</th>\n",
       "      <td>5.102050</td>\n",
       "    </tr>\n",
       "    <tr>\n",
       "      <th>50%</th>\n",
       "      <td>5.124100</td>\n",
       "    </tr>\n",
       "    <tr>\n",
       "      <th>75%</th>\n",
       "      <td>5.178150</td>\n",
       "    </tr>\n",
       "    <tr>\n",
       "      <th>max</th>\n",
       "      <td>5.284000</td>\n",
       "    </tr>\n",
       "  </tbody>\n",
       "</table>\n",
       "</div>"
      ],
      "text/plain": [
       "         Cotacao\n",
       "count  23.000000\n",
       "mean    5.142696\n",
       "std     0.063439\n",
       "min     5.042300\n",
       "25%     5.102050\n",
       "50%     5.124100\n",
       "75%     5.178150\n",
       "max     5.284000"
      ]
     },
     "execution_count": 123,
     "metadata": {},
     "output_type": "execute_result"
    }
   ],
   "source": [
    "dados.describe()"
   ]
  },
  {
   "cell_type": "code",
   "execution_count": 210,
   "id": "e1473700",
   "metadata": {},
   "outputs": [],
   "source": [
    "nova_coluna = resultado\n",
    "dados['mediamovel'] = nova_coluna"
   ]
  },
  {
   "cell_type": "code",
   "execution_count": 216,
   "id": "6a12553c",
   "metadata": {},
   "outputs": [],
   "source": [
    "dados = dados.set_index('Data')"
   ]
  },
  {
   "cell_type": "code",
   "execution_count": 217,
   "id": "db2d8464",
   "metadata": {},
   "outputs": [
    {
     "data": {
      "text/html": [
       "<div>\n",
       "<style scoped>\n",
       "    .dataframe tbody tr th:only-of-type {\n",
       "        vertical-align: middle;\n",
       "    }\n",
       "\n",
       "    .dataframe tbody tr th {\n",
       "        vertical-align: top;\n",
       "    }\n",
       "\n",
       "    .dataframe thead th {\n",
       "        text-align: right;\n",
       "    }\n",
       "</style>\n",
       "<table border=\"1\" class=\"dataframe\">\n",
       "  <thead>\n",
       "    <tr style=\"text-align: right;\">\n",
       "      <th></th>\n",
       "      <th>Cotacao</th>\n",
       "      <th>mediamovel</th>\n",
       "    </tr>\n",
       "    <tr>\n",
       "      <th>Data</th>\n",
       "      <th></th>\n",
       "      <th></th>\n",
       "    </tr>\n",
       "  </thead>\n",
       "  <tbody>\n",
       "    <tr>\n",
       "      <th>2022-08-01</th>\n",
       "      <td>5.1600</td>\n",
       "      <td>5.076886</td>\n",
       "    </tr>\n",
       "    <tr>\n",
       "      <th>2022-08-02</th>\n",
       "      <td>5.2323</td>\n",
       "      <td>5.085757</td>\n",
       "    </tr>\n",
       "    <tr>\n",
       "      <th>2022-08-03</th>\n",
       "      <td>5.2840</td>\n",
       "      <td>5.094757</td>\n",
       "    </tr>\n",
       "    <tr>\n",
       "      <th>2022-08-04</th>\n",
       "      <td>5.2403</td>\n",
       "      <td>5.102700</td>\n",
       "    </tr>\n",
       "    <tr>\n",
       "      <th>2022-08-05</th>\n",
       "      <td>5.2159</td>\n",
       "      <td>5.107286</td>\n",
       "    </tr>\n",
       "    <tr>\n",
       "      <th>2022-08-08</th>\n",
       "      <td>5.1241</td>\n",
       "      <td>5.111886</td>\n",
       "    </tr>\n",
       "    <tr>\n",
       "      <th>2022-08-09</th>\n",
       "      <td>5.1218</td>\n",
       "      <td>5.116414</td>\n",
       "    </tr>\n",
       "    <tr>\n",
       "      <th>2022-08-10</th>\n",
       "      <td>5.0491</td>\n",
       "      <td>5.124643</td>\n",
       "    </tr>\n",
       "    <tr>\n",
       "      <th>2022-08-11</th>\n",
       "      <td>5.1121</td>\n",
       "      <td>5.134057</td>\n",
       "    </tr>\n",
       "    <tr>\n",
       "      <th>2022-08-12</th>\n",
       "      <td>5.1017</td>\n",
       "      <td>5.143286</td>\n",
       "    </tr>\n",
       "    <tr>\n",
       "      <th>2022-08-15</th>\n",
       "      <td>5.0919</td>\n",
       "      <td>5.152029</td>\n",
       "    </tr>\n",
       "    <tr>\n",
       "      <th>2022-08-16</th>\n",
       "      <td>5.1334</td>\n",
       "      <td>5.160114</td>\n",
       "    </tr>\n",
       "    <tr>\n",
       "      <th>2022-08-17</th>\n",
       "      <td>5.1779</td>\n",
       "      <td>5.170314</td>\n",
       "    </tr>\n",
       "    <tr>\n",
       "      <th>2022-08-18</th>\n",
       "      <td>5.1767</td>\n",
       "      <td>5.182100</td>\n",
       "    </tr>\n",
       "    <tr>\n",
       "      <th>2022-08-19</th>\n",
       "      <td>5.1955</td>\n",
       "      <td>5.192429</td>\n",
       "    </tr>\n",
       "    <tr>\n",
       "      <th>2022-08-22</th>\n",
       "      <td>5.1703</td>\n",
       "      <td>5.202429</td>\n",
       "    </tr>\n",
       "    <tr>\n",
       "      <th>2022-08-23</th>\n",
       "      <td>5.1024</td>\n",
       "      <td>5.217757</td>\n",
       "    </tr>\n",
       "  </tbody>\n",
       "</table>\n",
       "</div>"
      ],
      "text/plain": [
       "            Cotacao  mediamovel\n",
       "Data                           \n",
       "2022-08-01   5.1600    5.076886\n",
       "2022-08-02   5.2323    5.085757\n",
       "2022-08-03   5.2840    5.094757\n",
       "2022-08-04   5.2403    5.102700\n",
       "2022-08-05   5.2159    5.107286\n",
       "2022-08-08   5.1241    5.111886\n",
       "2022-08-09   5.1218    5.116414\n",
       "2022-08-10   5.0491    5.124643\n",
       "2022-08-11   5.1121    5.134057\n",
       "2022-08-12   5.1017    5.143286\n",
       "2022-08-15   5.0919    5.152029\n",
       "2022-08-16   5.1334    5.160114\n",
       "2022-08-17   5.1779    5.170314\n",
       "2022-08-18   5.1767    5.182100\n",
       "2022-08-19   5.1955    5.192429\n",
       "2022-08-22   5.1703    5.202429\n",
       "2022-08-23   5.1024    5.217757"
      ]
     },
     "metadata": {},
     "output_type": "display_data"
    }
   ],
   "source": [
    "display(dados)"
   ]
  },
  {
   "cell_type": "code",
   "execution_count": 208,
   "id": "e24f61c1",
   "metadata": {},
   "outputs": [],
   "source": [
    "dados = dados.drop(index=[19, 18, 17])"
   ]
  },
  {
   "cell_type": "code",
   "execution_count": 221,
   "id": "f909ff23",
   "metadata": {},
   "outputs": [
    {
     "data": {
      "image/png": "[encoded data removed]",
      "text/plain": [
       "<Figure size 1000x600 with 1 Axes>"
      ]
     },
     "metadata": {},
     "output_type": "display_data"
    }
   ],
   "source": [
    "def media_movel(dolar, janela):\n",
    "    media_movel = []\n",
    "    for i in range(len(dolar) - janela + 1):\n",
    "        media = sum(dolar[i:i + janela]) / janela\n",
    "        media_movel.append(media)\n",
    "    return media_movel\n",
    "\n",
    "janela = 7  # Tamanho da janela da média móvel\n",
    "\n",
    "resultado = media_movel(dolar, janela)\n",
    "plt.figure(figsize=(10, 6))\n",
    "plt.plot(dados['Cotacao'], label='Dados Originais')\n",
    "plt.plot(dados['mediamovel'], label=f'Media Movel {janela} dias')\n",
    "plt.xlabel('Período')\n",
    "plt.ylabel('Valor')\n",
    "plt.title('Média Móvel Simples')\n",
    "plt.legend()\n",
    "plt.grid(True)\n",
    "plt.show()"
   ]
  },
  {
   "cell_type": "code",
   "execution_count": 80,
   "id": "073e4020",
   "metadata": {},
   "outputs": [
    {
     "data": {
      "text/plain": [
       "5.142695652173912"
      ]
     },
     "execution_count": 80,
     "metadata": {},
     "output_type": "execute_result"
    }
   ],
   "source": [
    "def media(dados):\n",
    "    media_mensal = dados['Cotacao'].mean()\n",
    "    return media_mensal\n",
    "\n",
    "media(dados)"
   ]
  },
  {
   "cell_type": "code",
   "execution_count": 99,
   "id": "93ef38b8",
   "metadata": {},
   "outputs": [],
   "source": [
    "desvio_padrao_0 = dados['Cotacao'].std(ddof=0)\n",
    "desvio_padrao_1 = dados['Cotacao'].std(ddof=1)\n",
    "\n",
    "#popualcional ddof = 0 \n",
    "#amostral ddof = 1"
   ]
  },
  {
   "cell_type": "code",
   "execution_count": 97,
   "id": "9031f125",
   "metadata": {},
   "outputs": [
    {
     "data": {
      "text/plain": [
       "(0.062044580594089106, 0.06343901494034095)"
      ]
     },
     "execution_count": 97,
     "metadata": {},
     "output_type": "execute_result"
    }
   ],
   "source": [
    "def calcular_desvio_padrao(dados):\n",
    "    desvio_padrao_0, desvio_padrao_1 = desvio_padrao(dados)\n",
    "    return desvio_padrao_0, desvio_padrao_1\n",
    "calcular_desvio_padrao(dados)"
   ]
  },
  {
   "cell_type": "code",
   "execution_count": 13,
   "id": "c634e8e3",
   "metadata": {},
   "outputs": [
    {
     "data": {
      "text/plain": [
       "(array([3., 1., 5., 4., 1., 4., 1., 2., 1., 1.]),\n",
       " array([5.0423 , 5.06647, 5.09064, 5.11481, 5.13898, 5.16315, 5.18732,\n",
       "        5.21149, 5.23566, 5.25983, 5.284  ]),\n",
       " <BarContainer object of 10 artists>)"
      ]
     },
     "execution_count": 13,
     "metadata": {},
     "output_type": "execute_result"
    },
    {
     "data": {
      "image/png": "[encoded data removed]",
      "text/plain": [
       "<Figure size 640x480 with 1 Axes>"
      ]
     },
     "metadata": {},
     "output_type": "display_data"
    }
   ],
   "source": [
    "plt.hist(dados['Cotacao'])"
   ]
  },
  {
   "cell_type": "code",
   "execution_count": 18,
   "id": "5ea4c022",
   "metadata": {
    "scrolled": false
   },
   "outputs": [
    {
     "data": {
      "text/plain": [
       "[<matplotlib.lines.Line2D at 0x272081c05e0>]"
      ]
     },
     "execution_count": 18,
     "metadata": {},
     "output_type": "execute_result"
    },
    {
     "data": {
      "image/png": "[encoded data removed]",
      "text/plain": [
       "<Figure size 1200x700 with 1 Axes>"
      ]
     },
     "metadata": {},
     "output_type": "display_data"
    }
   ],
   "source": [
    "plt.figure(figsize=(12, 7))\n",
    "plt.plot(dados['Data'], dados['Cotacao'], color = 'orange')\n"
   ]
  },
  {
   "cell_type": "code",
   "execution_count": 77,
   "id": "c4b43871",
   "metadata": {},
   "outputs": [
    {
     "data": {
      "text/plain": [
       "5.1241"
      ]
     },
     "execution_count": 77,
     "metadata": {},
     "output_type": "execute_result"
    }
   ],
   "source": [
    "def calcular_mediana(dolar):\n",
    "    dolar.sort()\n",
    "    if len(dolar) % 2 == 0:\n",
    "        meio1 = int(len(dolar) / 2)\n",
    "        meio2 = meio1 - 1\n",
    "        mediana_par = (dolar[meio1] + dolar[meio2]) / 2\n",
    "        mediana = mediana_par\n",
    "    else:\n",
    "        meio = int((len(dolar) + 1) / 2)\n",
    "        mediana = dolar[meio - 1]\n",
    "    return mediana\n",
    "calcular_mediana(dolar)"
   ]
  },
  {
   "cell_type": "code",
   "execution_count": 233,
   "id": "e15fe7a2",
   "metadata": {
    "scrolled": true
   },
   "outputs": [
    {
     "data": {
      "text/plain": [
       "0     5.0491\n",
       "1     5.0919\n",
       "2     5.1017\n",
       "3     5.1024\n",
       "4     5.1121\n",
       "5     5.1218\n",
       "6     5.1241\n",
       "7     5.1334\n",
       "8     5.1600\n",
       "9     5.1703\n",
       "10    5.1767\n",
       "11    5.1779\n",
       "12    5.1955\n",
       "13    5.2159\n",
       "14    5.2323\n",
       "15    5.2403\n",
       "16    5.2840\n",
       "Name: Cotacao, dtype: float64"
      ]
     },
     "execution_count": 233,
     "metadata": {},
     "output_type": "execute_result"
    }
   ],
   "source": [
    "def moda(dados):\n",
    "    moda = dados['Cotacao'].mode()\n",
    "    return moda\n",
    "\n",
    "moda(dados)"
   ]
  },
  {
   "cell_type": "markdown",
   "id": "eca84eb6",
   "metadata": {},
   "source": [
    "## Questão 1 e 2"
   ]
  },
  {
   "cell_type": "code",
   "execution_count": 238,
   "id": "f895420c",
   "metadata": {},
   "outputs": [
    {
     "name": "stdout",
     "output_type": "stream",
     "text": [
      "Selecione uma opção:\n",
      "1) Valor médio mensal em agosto\n",
      "2) Mediana\n",
      "3) Desvio Padrão\n",
      "4) Média Movel\n",
      "5) Moda \n",
      "1\n",
      "Esta é a média mensal do mês de agosto: 5.158200000000001\n"
     ]
    }
   ],
   "source": [
    "escolha = int(input('Selecione uma opção:\\n1) Valor médio mensal em agosto\\n2) Mediana\\n3) Desvio Padrão\\n4) Média Movel\\n5) Moda \\n'))\n",
    "\n",
    "if escolha == 1:\n",
    "    print('Esta é a média mensal do mês de agosto:', media(dados))  \n",
    "elif escolha == 2:\n",
    "    mediana1 = calcular_mediana(dolar)  \n",
    "    print('Esta é a Mediana do dólar em agosto:', mediana1)\n",
    "elif escolha == 3:\n",
    "    escolha1 = int(input('Selecione uma opção:\\n1) Desvio Padrão Amostral\\n2) Desvio Padrão Populacional\\n'))\n",
    "    if escolha1 == 1:  \n",
    "        print('Este é o Desvio Padrão Amostral:', desvio_padrao_1)\n",
    "    elif escolha1 == 2:  \n",
    "        print('Este é o Desvio Padrão Populacional:', desvio_padrao_0)\n",
    "    else:\n",
    "        print('Opção inválida')\n",
    "elif escolha == 4:\n",
    "    print('Esta é a Média movel dos ultimos 7 dias', resultado[-1])\n",
    "elif escolha == 5:\n",
    "    print('Esta é a Moda', moda(dados))\n",
    "else:\n",
    "    print('Opção inválida')\n"
   ]
  },
  {
   "cell_type": "code",
   "execution_count": 268,
   "id": "475878be",
   "metadata": {},
   "outputs": [
    {
     "data": {
      "text/html": [
       "<div>\n",
       "<style scoped>\n",
       "    .dataframe tbody tr th:only-of-type {\n",
       "        vertical-align: middle;\n",
       "    }\n",
       "\n",
       "    .dataframe tbody tr th {\n",
       "        vertical-align: top;\n",
       "    }\n",
       "\n",
       "    .dataframe thead th {\n",
       "        text-align: right;\n",
       "    }\n",
       "</style>\n",
       "<table border=\"1\" class=\"dataframe\">\n",
       "  <thead>\n",
       "    <tr style=\"text-align: right;\">\n",
       "      <th></th>\n",
       "      <th>Indice</th>\n",
       "    </tr>\n",
       "    <tr>\n",
       "      <th>Data</th>\n",
       "      <th></th>\n",
       "    </tr>\n",
       "  </thead>\n",
       "  <tbody>\n",
       "    <tr>\n",
       "      <th>2022-08-01</th>\n",
       "      <td>0.6</td>\n",
       "    </tr>\n",
       "    <tr>\n",
       "      <th>2022-08-02</th>\n",
       "      <td>1.6</td>\n",
       "    </tr>\n",
       "    <tr>\n",
       "      <th>2022-08-03</th>\n",
       "      <td>0.7</td>\n",
       "    </tr>\n",
       "    <tr>\n",
       "      <th>2022-08-04</th>\n",
       "      <td>1.4</td>\n",
       "    </tr>\n",
       "    <tr>\n",
       "      <th>2022-08-05</th>\n",
       "      <td>1.2</td>\n",
       "    </tr>\n",
       "    <tr>\n",
       "      <th>2022-08-06</th>\n",
       "      <td>0.7</td>\n",
       "    </tr>\n",
       "    <tr>\n",
       "      <th>2022-08-07</th>\n",
       "      <td>0.6</td>\n",
       "    </tr>\n",
       "    <tr>\n",
       "      <th>2022-08-08</th>\n",
       "      <td>0.5</td>\n",
       "    </tr>\n",
       "    <tr>\n",
       "      <th>2022-08-09</th>\n",
       "      <td>3.3</td>\n",
       "    </tr>\n",
       "    <tr>\n",
       "      <th>2022-08-10</th>\n",
       "      <td>1.0</td>\n",
       "    </tr>\n",
       "    <tr>\n",
       "      <th>2022-08-11</th>\n",
       "      <td>1.1</td>\n",
       "    </tr>\n",
       "    <tr>\n",
       "      <th>2022-08-12</th>\n",
       "      <td>0.5</td>\n",
       "    </tr>\n",
       "    <tr>\n",
       "      <th>2022-08-13</th>\n",
       "      <td>0.1</td>\n",
       "    </tr>\n",
       "    <tr>\n",
       "      <th>2022-08-14</th>\n",
       "      <td>0.3</td>\n",
       "    </tr>\n",
       "    <tr>\n",
       "      <th>2022-08-15</th>\n",
       "      <td>0.4</td>\n",
       "    </tr>\n",
       "    <tr>\n",
       "      <th>2022-08-16</th>\n",
       "      <td>0.3</td>\n",
       "    </tr>\n",
       "    <tr>\n",
       "      <th>2022-08-17</th>\n",
       "      <td>0.7</td>\n",
       "    </tr>\n",
       "    <tr>\n",
       "      <th>2022-08-18</th>\n",
       "      <td>1.0</td>\n",
       "    </tr>\n",
       "    <tr>\n",
       "      <th>2022-08-19</th>\n",
       "      <td>1.9</td>\n",
       "    </tr>\n",
       "    <tr>\n",
       "      <th>2022-08-20</th>\n",
       "      <td>2.8</td>\n",
       "    </tr>\n",
       "    <tr>\n",
       "      <th>2022-08-21</th>\n",
       "      <td>1.2</td>\n",
       "    </tr>\n",
       "    <tr>\n",
       "      <th>2022-08-22</th>\n",
       "      <td>2.1</td>\n",
       "    </tr>\n",
       "    <tr>\n",
       "      <th>2022-08-23</th>\n",
       "      <td>1.3</td>\n",
       "    </tr>\n",
       "    <tr>\n",
       "      <th>2022-08-24</th>\n",
       "      <td>2.6</td>\n",
       "    </tr>\n",
       "    <tr>\n",
       "      <th>2022-08-25</th>\n",
       "      <td>1.4</td>\n",
       "    </tr>\n",
       "    <tr>\n",
       "      <th>2022-08-26</th>\n",
       "      <td>0.1</td>\n",
       "    </tr>\n",
       "    <tr>\n",
       "      <th>2022-08-27</th>\n",
       "      <td>0.8</td>\n",
       "    </tr>\n",
       "    <tr>\n",
       "      <th>2022-08-28</th>\n",
       "      <td>1.4</td>\n",
       "    </tr>\n",
       "    <tr>\n",
       "      <th>2022-08-29</th>\n",
       "      <td>2.3</td>\n",
       "    </tr>\n",
       "    <tr>\n",
       "      <th>2022-08-30</th>\n",
       "      <td>0.4</td>\n",
       "    </tr>\n",
       "    <tr>\n",
       "      <th>2022-08-31</th>\n",
       "      <td>0.8</td>\n",
       "    </tr>\n",
       "  </tbody>\n",
       "</table>\n",
       "</div>"
      ],
      "text/plain": [
       "            Indice\n",
       "Data              \n",
       "2022-08-01     0.6\n",
       "2022-08-02     1.6\n",
       "2022-08-03     0.7\n",
       "2022-08-04     1.4\n",
       "2022-08-05     1.2\n",
       "2022-08-06     0.7\n",
       "2022-08-07     0.6\n",
       "2022-08-08     0.5\n",
       "2022-08-09     3.3\n",
       "2022-08-10     1.0\n",
       "2022-08-11     1.1\n",
       "2022-08-12     0.5\n",
       "2022-08-13     0.1\n",
       "2022-08-14     0.3\n",
       "2022-08-15     0.4\n",
       "2022-08-16     0.3\n",
       "2022-08-17     0.7\n",
       "2022-08-18     1.0\n",
       "2022-08-19     1.9\n",
       "2022-08-20     2.8\n",
       "2022-08-21     1.2\n",
       "2022-08-22     2.1\n",
       "2022-08-23     1.3\n",
       "2022-08-24     2.6\n",
       "2022-08-25     1.4\n",
       "2022-08-26     0.1\n",
       "2022-08-27     0.8\n",
       "2022-08-28     1.4\n",
       "2022-08-29     2.3\n",
       "2022-08-30     0.4\n",
       "2022-08-31     0.8"
      ]
     },
     "metadata": {},
     "output_type": "display_data"
    }
   ],
   "source": [
    "df = pd.read_excel('indice.xlsx', index_col = 'Data')\n",
    "display(df)"
   ]
  },
  {
   "cell_type": "code",
   "execution_count": 246,
   "id": "eea086db",
   "metadata": {},
   "outputs": [
    {
     "data": {
      "text/plain": [
       "1.1322580645161289"
      ]
     },
     "execution_count": 246,
     "metadata": {},
     "output_type": "execute_result"
    }
   ],
   "source": [
    "media_indice = df['Indice'].mean()\n",
    "(df['Indice'].sum())/len(df['Indice'])\n",
    "media_indice"
   ]
  },
  {
   "cell_type": "code",
   "execution_count": 265,
   "id": "c8187c5f",
   "metadata": {},
   "outputs": [
    {
     "name": "stdout",
     "output_type": "stream",
     "text": [
      "0.8117417884911405\n"
     ]
    }
   ],
   "source": [
    "desvio_padrao_am = df['Indice'].std(ddof = 1)\n",
    "print(desvio_padrao_am)\n",
    "\n",
    "#popualcional ddof = 0 \n",
    "#amostral ddof = 1"
   ]
  },
  {
   "cell_type": "markdown",
   "id": "543097b8",
   "metadata": {},
   "source": [
    "## Questão 3"
   ]
  },
  {
   "cell_type": "code",
   "execution_count": 266,
   "id": "7e8e146c",
   "metadata": {
    "scrolled": true
   },
   "outputs": [
    {
     "name": "stdout",
     "output_type": "stream",
     "text": [
      "Selecione uma opção:\n",
      "1) Valor médio de precipitação em agosto\n",
      "2) Desvio Padrão\n",
      "2\n",
      "O Desvio Padrão Amostral em agosto indica que NÃO houve grande variação de precipitação pluviométrica\n"
     ]
    }
   ],
   "source": [
    "escolha = int(input('Selecione uma opção:\\n1) Valor médio de precipitação em agosto\\n2) Desvio Padrão\\n'))\n",
    "\n",
    "if escolha == 1:\n",
    "    print('Valor médio de precipitação em agosto foi de:', media_indice)\n",
    "elif escolha == 2:\n",
    "    if desvio_padrao_am > 0.9:\n",
    "        print('O Desvio Padrão Amostral em agosto indica que houve grande variação de precipitação pluviométrica')\n",
    "        print(desvio_padrao_am)\n",
    "    else:\n",
    "        print('O Desvio Padrão Amostral em agosto indica que NÃO houve grande variação de precipitação pluviométrica')\n",
    "else:\n",
    "    print('Valor Inválido')\n",
    "\n",
    "\n"
   ]
  },
  {
   "cell_type": "markdown",
   "id": "96aecf50",
   "metadata": {},
   "source": [
    "## Questão 4"
   ]
  },
  {
   "cell_type": "code",
   "execution_count": 273,
   "id": "c39dc975",
   "metadata": {
    "scrolled": false
   },
   "outputs": [
    {
     "name": "stderr",
     "output_type": "stream",
     "text": [
      "No artists with labels found to put in legend.  Note that artists whose label start with an underscore are ignored when legend() is called with no argument.\n"
     ]
    },
    {
     "data": {
      "image/png": "[encoded data removed]",
      "text/plain": [
       "<Figure size 1200x600 with 1 Axes>"
      ]
     },
     "metadata": {},
     "output_type": "display_data"
    }
   ],
   "source": [
    "plt.figure(figsize=(12, 6))\n",
    "plt.xlabel('Período')\n",
    "plt.ylabel('Valor')\n",
    "plt.title('indicador de precipitação pluviométrica')\n",
    "plt.legend()\n",
    "plt.grid(True)\n",
    "plt.plot(df, color = 'red')\n",
    "plt.show()\n"
   ]
  },
  {
   "cell_type": "code",
   "execution_count": null,
   "id": "e1e89cbf",
   "metadata": {},
   "outputs": [],
   "source": []
  }
 ],
 "metadata": {
  "kernelspec": {
   "display_name": "Python 3 (ipykernel)",
   "language": "python",
   "name": "python3"
  },
  "language_info": {
   "codemirror_mode": {
    "name": "ipython",
    "version": 3
   },
   "file_extension": ".py",
   "mimetype": "text/x-python",
   "name": "python",
   "nbconvert_exporter": "python",
   "pygments_lexer": "ipython3",
   "version": "3.10.9"
  }
 },
 "nbformat": 4,
 "nbformat_minor": 5
}
